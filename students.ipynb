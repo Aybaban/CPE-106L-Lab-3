{
 "cells": [
  {
   "cell_type": "code",
   "execution_count": 12,
   "id": "f7cc4014-4681-4374-bfd9-af2146b1b614",
   "metadata": {},
   "outputs": [
    {
     "name": "stdout",
     "output_type": "stream",
     "text": [
      "Name: Ken\n",
      "Scores: 0 0 0 0 0\n",
      "Name: Ken\n",
      "Scores: 100 100 100 100 100\n",
      "Ken == Alice: False\n",
      "Ken == Ken: True\n",
      "Ken < Alice: False\n",
      "Alice < Ken: True\n",
      "Ken >= Alice: True\n",
      "Alice >= Ken: False\n",
      "Ken >= Ken: True\n"
     ]
    }
   ],
   "source": [
    "class Student(object):\n",
    "    \"\"\"Represents a student.\"\"\"\n",
    "\n",
    "    def __init__(self, name, number):\n",
    "        \"\"\"All scores are initially 0.\"\"\"\n",
    "        self.name = name\n",
    "        self.scores = [0] * number\n",
    "\n",
    "    def getName(self):\n",
    "        \"\"\"Returns the student's name.\"\"\"\n",
    "        return self.name\n",
    "\n",
    "    def setScore(self, i, score):\n",
    "        \"\"\"Resets the ith score, counting from 1.\"\"\"\n",
    "        self.scores[i - 1] = score\n",
    "\n",
    "    def getScore(self, i):\n",
    "        \"\"\"Returns the ith score, counting from 1.\"\"\"\n",
    "        return self.scores[i - 1]\n",
    "\n",
    "    def getAverage(self):\n",
    "        \"\"\"Returns the average score.\"\"\"\n",
    "        return sum(self.scores) / len(self.scores)\n",
    "\n",
    "    def getHighScore(self):\n",
    "        \"\"\"Returns the highest score.\"\"\"\n",
    "        return max(self.scores)\n",
    "\n",
    "    def __str__(self):\n",
    "        \"\"\"Returns the string representation of the student.\"\"\"\n",
    "        return \"Name: \" + self.name + \"\\nScores: \" + \" \".join(map(str, self.scores))\n",
    "\n",
    "    def __eq__(self, other):\n",
    "        \"\"\"Checks if two students have the same name.\"\"\"\n",
    "        return self.name == other.name\n",
    "\n",
    "    def __lt__(self, other):\n",
    "        \"\"\"Checks if this student's name is less than the other student's name.\"\"\"\n",
    "        return self.name < other.name\n",
    "\n",
    "    def __ge__(self, other):\n",
    "        \"\"\"Checks if this student's name is greater than or equal to the other student's name.\"\"\"\n",
    "        return self.name >= other.name\n",
    "\n",
    "def main():\n",
    "    \"\"\"A simple test.\"\"\"\n",
    "    student1 = Student(\"Ken\", 5)\n",
    "    student2 = Student(\"Alice\", 5)\n",
    "    student3 = Student(\"Ken\", 5)\n",
    "\n",
    "    print(student1)\n",
    "    for i in range(1, 6):\n",
    "        student1.setScore(i, 100)\n",
    "    print(student1)\n",
    "\n",
    "    print(f\"{student1.getName()} == {student2.getName()}: {student1 == student2}\")\n",
    "    print(f\"{student1.getName()} == {student3.getName()}: {student1 == student3}\")\n",
    "    print(f\"{student1.getName()} < {student2.getName()}: {student1 < student2}\")\n",
    "    print(f\"{student2.getName()} < {student1.getName()}: {student2 < student1}\")\n",
    "    print(f\"{student1.getName()} >= {student2.getName()}: {student1 >= student2}\")\n",
    "    print(f\"{student2.getName()} >= {student1.getName()}: {student2 >= student1}\")\n",
    "    print(f\"{student1.getName()} >= {student3.getName()}: {student1 >= student3}\")\n",
    "\n",
    "if __name__ == \"__main__\":\n",
    "    main()\n",
    "\n"
   ]
  },
  {
   "cell_type": "code",
   "execution_count": null,
   "id": "af8aa3b3-59c1-4707-a2bd-29d7f116a0cd",
   "metadata": {},
   "outputs": [],
   "source": []
  },
  {
   "cell_type": "code",
   "execution_count": null,
   "id": "46eb3208-c666-4c38-b8a7-6c334cf12912",
   "metadata": {},
   "outputs": [],
   "source": []
  }
 ],
 "metadata": {
  "kernelspec": {
   "display_name": "Python 3 (ipykernel)",
   "language": "python",
   "name": "python3"
  },
  "language_info": {
   "codemirror_mode": {
    "name": "ipython",
    "version": 3
   },
   "file_extension": ".py",
   "mimetype": "text/x-python",
   "name": "python",
   "nbconvert_exporter": "python",
   "pygments_lexer": "ipython3",
   "version": "3.13.5"
  }
 },
 "nbformat": 4,
 "nbformat_minor": 5
}
